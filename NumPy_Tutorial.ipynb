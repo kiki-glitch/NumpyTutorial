{
  "nbformat": 4,
  "nbformat_minor": 0,
  "metadata": {
    "colab": {
      "provenance": [],
      "collapsed_sections": [],
      "authorship_tag": "ABX9TyNUU+CDMfGO3mzzrf0kTWbW",
      "include_colab_link": true
    },
    "kernelspec": {
      "name": "python3",
      "display_name": "Python 3"
    },
    "language_info": {
      "name": "python"
    }
  },
  "cells": [
    {
      "cell_type": "markdown",
      "metadata": {
        "id": "view-in-github",
        "colab_type": "text"
      },
      "source": [
        "<a href=\"https://colab.research.google.com/github/kiki-glitch/NumpyTutorial/blob/main/NumPy_Tutorial.ipynb\" target=\"_parent\"><img src=\"https://colab.research.google.com/assets/colab-badge.svg\" alt=\"Open In Colab\"/></a>"
      ]
    },
    {
      "cell_type": "code",
      "execution_count": null,
      "metadata": {
        "id": "_2iUf4yK4Pfd"
      },
      "outputs": [],
      "source": [
        "import numpy as np"
      ]
    },
    {
      "cell_type": "markdown",
      "source": [
        "Basics"
      ],
      "metadata": {
        "id": "S3yAwLU7SJpP"
      }
    },
    {
      "cell_type": "code",
      "source": [
        "a = np.array([1,2,3], dtype='int32')\n",
        "print(a)"
      ],
      "metadata": {
        "colab": {
          "base_uri": "https://localhost:8080/"
        },
        "id": "wGQeBJqiRblp",
        "outputId": "9d93958b-6b7e-47b0-b578-d23ab7f74414"
      },
      "execution_count": null,
      "outputs": [
        {
          "output_type": "stream",
          "name": "stdout",
          "text": [
            "[1 2 3]\n"
          ]
        }
      ]
    },
    {
      "cell_type": "code",
      "source": [
        "b = np.array([[9.0,8.0,7.0], [6.0,5.0,4.0]])\n",
        "print(b)"
      ],
      "metadata": {
        "colab": {
          "base_uri": "https://localhost:8080/"
        },
        "id": "lYZDU16sSUy-",
        "outputId": "ea4dd8e2-a1e0-4716-98a5-eb62962f7aed"
      },
      "execution_count": null,
      "outputs": [
        {
          "output_type": "stream",
          "name": "stdout",
          "text": [
            "[[9. 8. 7.]\n",
            " [6. 5. 4.]]\n"
          ]
        }
      ]
    },
    {
      "cell_type": "code",
      "source": [
        "a.ndim"
      ],
      "metadata": {
        "colab": {
          "base_uri": "https://localhost:8080/"
        },
        "id": "geFDA1xJSjwZ",
        "outputId": "8ea4bbd8-8067-4dec-a4d8-874e3d056e85"
      },
      "execution_count": null,
      "outputs": [
        {
          "output_type": "execute_result",
          "data": {
            "text/plain": [
              "1"
            ]
          },
          "metadata": {},
          "execution_count": 7
        }
      ]
    },
    {
      "cell_type": "code",
      "source": [
        "a.shape"
      ],
      "metadata": {
        "colab": {
          "base_uri": "https://localhost:8080/"
        },
        "id": "3_PKA5dlSj2x",
        "outputId": "568eb92e-d778-44d0-ddcf-19c63a0f708c"
      },
      "execution_count": null,
      "outputs": [
        {
          "output_type": "execute_result",
          "data": {
            "text/plain": [
              "(3,)"
            ]
          },
          "metadata": {},
          "execution_count": 8
        }
      ]
    },
    {
      "cell_type": "code",
      "source": [
        "b.shape"
      ],
      "metadata": {
        "colab": {
          "base_uri": "https://localhost:8080/"
        },
        "id": "29rhhohnSv38",
        "outputId": "6c472872-b2c6-46d3-cccc-68c9efe6b492"
      },
      "execution_count": null,
      "outputs": [
        {
          "output_type": "execute_result",
          "data": {
            "text/plain": [
              "(2, 3)"
            ]
          },
          "metadata": {},
          "execution_count": 9
        }
      ]
    },
    {
      "cell_type": "code",
      "source": [
        "a.dtype"
      ],
      "metadata": {
        "colab": {
          "base_uri": "https://localhost:8080/"
        },
        "id": "9djcNZMoTAJO",
        "outputId": "b1764864-f388-49d0-f2ce-6733fc919612"
      },
      "execution_count": null,
      "outputs": [
        {
          "output_type": "execute_result",
          "data": {
            "text/plain": [
              "dtype('int16')"
            ]
          },
          "metadata": {},
          "execution_count": 15
        }
      ]
    },
    {
      "cell_type": "code",
      "source": [
        "a.itemsize\n",
        "b.itemsize"
      ],
      "metadata": {
        "colab": {
          "base_uri": "https://localhost:8080/"
        },
        "id": "pfkuBfHWUUno",
        "outputId": "7177df0c-2f30-41ee-dc21-4b1c1e96c6cf"
      },
      "execution_count": null,
      "outputs": [
        {
          "output_type": "execute_result",
          "data": {
            "text/plain": [
              "8"
            ]
          },
          "metadata": {},
          "execution_count": 23
        }
      ]
    },
    {
      "cell_type": "code",
      "source": [
        "a.size "
      ],
      "metadata": {
        "colab": {
          "base_uri": "https://localhost:8080/"
        },
        "id": "-5Wk2TlkVB6d",
        "outputId": "07084c0f-dc5c-48cb-d24b-1551cfc4334b"
      },
      "execution_count": null,
      "outputs": [
        {
          "output_type": "execute_result",
          "data": {
            "text/plain": [
              "3"
            ]
          },
          "metadata": {},
          "execution_count": 20
        }
      ]
    },
    {
      "cell_type": "code",
      "source": [
        "a.nbytes"
      ],
      "metadata": {
        "colab": {
          "base_uri": "https://localhost:8080/"
        },
        "id": "3ImdmySUVGtr",
        "outputId": "1f27861c-9c5a-4e1a-eed5-a556bd1453a9"
      },
      "execution_count": null,
      "outputs": [
        {
          "output_type": "execute_result",
          "data": {
            "text/plain": [
              "12"
            ]
          },
          "metadata": {},
          "execution_count": 22
        }
      ]
    },
    {
      "cell_type": "code",
      "source": [
        "c  =np.array([[1,2,3,4,5,6,7],[8,9,10,11,12,13,14]])\n",
        "print(c)"
      ],
      "metadata": {
        "colab": {
          "base_uri": "https://localhost:8080/"
        },
        "id": "qtjWfg48VUiv",
        "outputId": "5c4d3e2c-6614-4588-de8a-cbda0f248523"
      },
      "execution_count": null,
      "outputs": [
        {
          "output_type": "stream",
          "name": "stdout",
          "text": [
            "[[ 1  2  3  4  5  6  7]\n",
            " [ 8  9 10 11 12 13 14]]\n"
          ]
        }
      ]
    },
    {
      "cell_type": "code",
      "source": [
        "# Get a apecific element[r,c]\n",
        "c[1,-2]"
      ],
      "metadata": {
        "colab": {
          "base_uri": "https://localhost:8080/"
        },
        "id": "Dgzpj-0mY1lK",
        "outputId": "31e9079b-8b0b-401f-8a19-d1fdb9fa4263"
      },
      "execution_count": null,
      "outputs": [
        {
          "output_type": "execute_result",
          "data": {
            "text/plain": [
              "13"
            ]
          },
          "metadata": {},
          "execution_count": 31
        }
      ]
    },
    {
      "cell_type": "code",
      "source": [
        "#Get a specific row\n",
        "c[0,:]"
      ],
      "metadata": {
        "colab": {
          "base_uri": "https://localhost:8080/"
        },
        "id": "Fc42eASEZQeG",
        "outputId": "681078e6-570a-4a6d-e0a9-d21a14fa359a"
      },
      "execution_count": null,
      "outputs": [
        {
          "output_type": "execute_result",
          "data": {
            "text/plain": [
              "array([1, 2, 3, 4, 5, 6, 7])"
            ]
          },
          "metadata": {},
          "execution_count": 33
        }
      ]
    },
    {
      "cell_type": "code",
      "source": [
        "#Get a specific column\n",
        "c[:,2]"
      ],
      "metadata": {
        "colab": {
          "base_uri": "https://localhost:8080/"
        },
        "id": "NUa87UzxZkb7",
        "outputId": "d63c986e-919c-4b92-a4f8-bcbc91c629a9"
      },
      "execution_count": null,
      "outputs": [
        {
          "output_type": "execute_result",
          "data": {
            "text/plain": [
              "array([ 3, 10])"
            ]
          },
          "metadata": {},
          "execution_count": 35
        }
      ]
    },
    {
      "cell_type": "code",
      "source": [
        "#Getting a lit more fany [start index:endindex:stepsize]\n",
        "c[0,1:-1:2]"
      ],
      "metadata": {
        "colab": {
          "base_uri": "https://localhost:8080/"
        },
        "id": "xYGr85TLZt53",
        "outputId": "670b3312-8c7d-444a-ef36-3bc6aa90c86e"
      },
      "execution_count": null,
      "outputs": [
        {
          "output_type": "execute_result",
          "data": {
            "text/plain": [
              "array([2, 4, 6])"
            ]
          },
          "metadata": {},
          "execution_count": 38
        }
      ]
    },
    {
      "cell_type": "code",
      "source": [
        "#change an element\n",
        "c[1,5] = 20\n",
        "print (c)\n",
        "\n",
        "c[:,2] = [1,2]\n",
        "print(c)"
      ],
      "metadata": {
        "colab": {
          "base_uri": "https://localhost:8080/"
        },
        "id": "jVmHOiQ_Z_g_",
        "outputId": "0eed5619-033d-455d-b217-953382d91de6"
      },
      "execution_count": null,
      "outputs": [
        {
          "output_type": "stream",
          "name": "stdout",
          "text": [
            "[[ 1  2  3  4  5  6  7]\n",
            " [ 8  9 10 11 12 20 14]]\n",
            "[[ 1  2  1  4  5  6  7]\n",
            " [ 8  9  2 11 12 20 14]]\n"
          ]
        }
      ]
    },
    {
      "cell_type": "markdown",
      "source": [
        "3d example"
      ],
      "metadata": {
        "id": "c_Cwn-3ma5aZ"
      }
    },
    {
      "cell_type": "code",
      "source": [
        "d = np.array([[[1,2],[3,4]],[[5,6],[7,8]]])\n",
        "print(d)"
      ],
      "metadata": {
        "colab": {
          "base_uri": "https://localhost:8080/"
        },
        "id": "MSbTokHWa4cK",
        "outputId": "9b2611f8-d853-446e-a758-d370a7351fba"
      },
      "execution_count": null,
      "outputs": [
        {
          "output_type": "stream",
          "name": "stdout",
          "text": [
            "[[[1 2]\n",
            "  [3 4]]\n",
            "\n",
            " [[5 6]\n",
            "  [7 8]]]\n"
          ]
        }
      ]
    },
    {
      "cell_type": "code",
      "source": [
        "d[0,1,1]"
      ],
      "metadata": {
        "colab": {
          "base_uri": "https://localhost:8080/"
        },
        "id": "hAqNZ3rEbj15",
        "outputId": "a93370f2-e39f-4793-804d-37c5fc56f15b"
      },
      "execution_count": null,
      "outputs": [
        {
          "output_type": "execute_result",
          "data": {
            "text/plain": [
              "4"
            ]
          },
          "metadata": {},
          "execution_count": 46
        }
      ]
    },
    {
      "cell_type": "code",
      "source": [
        "#replace\n",
        "d[:,1,:] = [[9,9],[8,8]]\n",
        "d"
      ],
      "metadata": {
        "colab": {
          "base_uri": "https://localhost:8080/"
        },
        "id": "Z0hc5Q0XbuJw",
        "outputId": "a162d599-e218-4304-cb6c-68a6d8f2c54c"
      },
      "execution_count": null,
      "outputs": [
        {
          "output_type": "execute_result",
          "data": {
            "text/plain": [
              "array([[[1, 2],\n",
              "        [9, 9]],\n",
              "\n",
              "       [[5, 6],\n",
              "        [8, 8]]])"
            ]
          },
          "metadata": {},
          "execution_count": 51
        }
      ]
    },
    {
      "cell_type": "markdown",
      "source": [
        "Initialize Diferent Types of Arrays"
      ],
      "metadata": {
        "id": "z4D0pO24chRJ"
      }
    },
    {
      "cell_type": "code",
      "source": [
        "np.zeros((2,3)) "
      ],
      "metadata": {
        "colab": {
          "base_uri": "https://localhost:8080/"
        },
        "id": "BhqjM2n0cd8S",
        "outputId": "06393509-e5eb-410f-fe3e-314441bef976"
      },
      "execution_count": null,
      "outputs": [
        {
          "output_type": "execute_result",
          "data": {
            "text/plain": [
              "array([[0., 0., 0.],\n",
              "       [0., 0., 0.]])"
            ]
          },
          "metadata": {},
          "execution_count": 53
        }
      ]
    },
    {
      "cell_type": "code",
      "source": [
        "np.ones((4,2,2), dtype='int32')"
      ],
      "metadata": {
        "colab": {
          "base_uri": "https://localhost:8080/"
        },
        "id": "r1dfXcaxeaUc",
        "outputId": "74c835a7-121b-4b66-b555-b37ccdcf48c5"
      },
      "execution_count": null,
      "outputs": [
        {
          "output_type": "execute_result",
          "data": {
            "text/plain": [
              "array([[[1, 1],\n",
              "        [1, 1]],\n",
              "\n",
              "       [[1, 1],\n",
              "        [1, 1]],\n",
              "\n",
              "       [[1, 1],\n",
              "        [1, 1]],\n",
              "\n",
              "       [[1, 1],\n",
              "        [1, 1]]], dtype=int32)"
            ]
          },
          "metadata": {},
          "execution_count": 54
        }
      ]
    },
    {
      "cell_type": "code",
      "source": [
        "np.full((2,2), 99, dtype='float32')"
      ],
      "metadata": {
        "colab": {
          "base_uri": "https://localhost:8080/"
        },
        "id": "mAnKnoPCekjb",
        "outputId": "52b1e82a-0adf-4e55-a359-efc61032474d"
      },
      "execution_count": null,
      "outputs": [
        {
          "output_type": "execute_result",
          "data": {
            "text/plain": [
              "array([[99., 99.],\n",
              "       [99., 99.]], dtype=float32)"
            ]
          },
          "metadata": {},
          "execution_count": 56
        }
      ]
    },
    {
      "cell_type": "code",
      "source": [
        "#Any other number (full_Like)\n",
        "np.full_like(c,4)"
      ],
      "metadata": {
        "colab": {
          "base_uri": "https://localhost:8080/"
        },
        "id": "YlTBrJm1esWF",
        "outputId": "0a72854e-365a-4c18-c49f-6a574bd9908b"
      },
      "execution_count": null,
      "outputs": [
        {
          "output_type": "execute_result",
          "data": {
            "text/plain": [
              "array([[4, 4, 4, 4, 4, 4, 4],\n",
              "       [4, 4, 4, 4, 4, 4, 4]])"
            ]
          },
          "metadata": {},
          "execution_count": 60
        }
      ]
    },
    {
      "cell_type": "code",
      "source": [
        "#Random decimal numbers\n",
        "np.random.rand(4,2,3)"
      ],
      "metadata": {
        "colab": {
          "base_uri": "https://localhost:8080/"
        },
        "id": "vNlOA22HgtJa",
        "outputId": "0d362b78-dacc-44fd-a127-bdca34469b5c"
      },
      "execution_count": null,
      "outputs": [
        {
          "output_type": "execute_result",
          "data": {
            "text/plain": [
              "array([[[0.98871046, 0.67873996, 0.5200082 ],\n",
              "        [0.09721645, 0.43595068, 0.73939451]],\n",
              "\n",
              "       [[0.62428437, 0.51689055, 0.02110954],\n",
              "        [0.9060732 , 0.05458198, 0.90659745]],\n",
              "\n",
              "       [[0.40979502, 0.68647982, 0.63550305],\n",
              "        [0.46044437, 0.72144325, 0.19003641]],\n",
              "\n",
              "       [[0.92640323, 0.6643984 , 0.16141588],\n",
              "        [0.24321368, 0.18686059, 0.48259813]]])"
            ]
          },
          "metadata": {},
          "execution_count": 63
        }
      ]
    },
    {
      "cell_type": "code",
      "source": [
        "#Random Integer values\n",
        "np.random.randint(4,8, size=(3,3))"
      ],
      "metadata": {
        "colab": {
          "base_uri": "https://localhost:8080/"
        },
        "id": "yfl0QemthL_S",
        "outputId": "a8044870-5ea0-4553-c0d4-d835b88d1df8"
      },
      "execution_count": null,
      "outputs": [
        {
          "output_type": "execute_result",
          "data": {
            "text/plain": [
              "array([[4, 4, 5],\n",
              "       [7, 7, 5],\n",
              "       [5, 5, 6]])"
            ]
          },
          "metadata": {},
          "execution_count": 66
        }
      ]
    },
    {
      "cell_type": "code",
      "source": [
        "np.identity(5)"
      ],
      "metadata": {
        "colab": {
          "base_uri": "https://localhost:8080/"
        },
        "id": "1ek-3CpIhd11",
        "outputId": "803671ed-d7ee-43bd-c628-c2c7f6496668"
      },
      "execution_count": null,
      "outputs": [
        {
          "output_type": "execute_result",
          "data": {
            "text/plain": [
              "array([[1., 0., 0., 0., 0.],\n",
              "       [0., 1., 0., 0., 0.],\n",
              "       [0., 0., 1., 0., 0.],\n",
              "       [0., 0., 0., 1., 0.],\n",
              "       [0., 0., 0., 0., 1.]])"
            ]
          },
          "metadata": {},
          "execution_count": 67
        }
      ]
    },
    {
      "cell_type": "code",
      "source": [
        "#Repeat an array\n",
        "arr = np.array([[1,2,3]])\n",
        "r1 = np.repeat(arr,3, axis=0)\n",
        "print(r1)"
      ],
      "metadata": {
        "colab": {
          "base_uri": "https://localhost:8080/"
        },
        "id": "Ci1I46p-hiS3",
        "outputId": "4ab83b18-c9bf-4ca6-a60c-2ea120f6849d"
      },
      "execution_count": null,
      "outputs": [
        {
          "output_type": "stream",
          "name": "stdout",
          "text": [
            "[[1 2 3]\n",
            " [1 2 3]\n",
            " [1 2 3]]\n"
          ]
        }
      ]
    },
    {
      "cell_type": "code",
      "source": [
        "#Exercise\n",
        "x=np.ones((5,5))\n",
        "y=np.zeros((3,3))\n",
        "y[1,1] = 9\n",
        "print(x)\n",
        "print(y)\n",
        "x[1:-1,1:-1]= y\n",
        "print(x)\n"
      ],
      "metadata": {
        "id": "AubEOCyoh7zx"
      },
      "execution_count": null,
      "outputs": []
    },
    {
      "cell_type": "markdown",
      "source": [
        "**Be careful when copying arrays!!!**"
      ],
      "metadata": {
        "id": "bvTsWrQrlMNN"
      }
    },
    {
      "cell_type": "code",
      "source": [
        "a = np.array([1,2,3])\n",
        "b= a.copy()\n",
        "b[0] = 100\n",
        "print(a)"
      ],
      "metadata": {
        "colab": {
          "base_uri": "https://localhost:8080/"
        },
        "id": "G8L9E1Prk1gA",
        "outputId": "badb25bd-10cb-4246-f95f-d2b33f62db74"
      },
      "execution_count": null,
      "outputs": [
        {
          "output_type": "stream",
          "name": "stdout",
          "text": [
            "[1 2 3]\n"
          ]
        }
      ]
    },
    {
      "cell_type": "markdown",
      "source": [
        "Mathematics"
      ],
      "metadata": {
        "id": "ULxEWklFlcqJ"
      }
    },
    {
      "cell_type": "code",
      "source": [
        "a = np.array([1,2,3,4])\n",
        "print(a)"
      ],
      "metadata": {
        "colab": {
          "base_uri": "https://localhost:8080/"
        },
        "id": "B9ac3mZ9lVLC",
        "outputId": "85e46568-624c-4617-ca6d-a64c65e8ce19"
      },
      "execution_count": null,
      "outputs": [
        {
          "output_type": "stream",
          "name": "stdout",
          "text": [
            "[1 2 3 4]\n"
          ]
        }
      ]
    },
    {
      "cell_type": "code",
      "source": [
        "a+2"
      ],
      "metadata": {
        "colab": {
          "base_uri": "https://localhost:8080/"
        },
        "id": "bo2cmN9sllta",
        "outputId": "99120b46-909d-4a5e-e131-faa3e5eb9e9b"
      },
      "execution_count": null,
      "outputs": [
        {
          "output_type": "execute_result",
          "data": {
            "text/plain": [
              "array([3, 4, 5, 6])"
            ]
          },
          "metadata": {},
          "execution_count": 105
        }
      ]
    },
    {
      "cell_type": "code",
      "source": [
        "a-2"
      ],
      "metadata": {
        "colab": {
          "base_uri": "https://localhost:8080/"
        },
        "id": "Da_5KeaGloRL",
        "outputId": "8c559c36-48c5-4879-b951-ab7e5f6b8251"
      },
      "execution_count": null,
      "outputs": [
        {
          "output_type": "execute_result",
          "data": {
            "text/plain": [
              "array([-1,  0,  1,  2])"
            ]
          },
          "metadata": {},
          "execution_count": 106
        }
      ]
    },
    {
      "cell_type": "code",
      "source": [
        "a*2"
      ],
      "metadata": {
        "colab": {
          "base_uri": "https://localhost:8080/"
        },
        "id": "1zTTV2Qhlnmw",
        "outputId": "150514a2-f0cf-4531-c03a-826805fd10c4"
      },
      "execution_count": null,
      "outputs": [
        {
          "output_type": "execute_result",
          "data": {
            "text/plain": [
              "array([2, 4, 6, 8])"
            ]
          },
          "metadata": {},
          "execution_count": 107
        }
      ]
    },
    {
      "cell_type": "code",
      "source": [
        "a/2"
      ],
      "metadata": {
        "colab": {
          "base_uri": "https://localhost:8080/"
        },
        "id": "QwYkTWbRlsHK",
        "outputId": "d451dc17-c41e-42d8-e81b-3d770452294f"
      },
      "execution_count": null,
      "outputs": [
        {
          "output_type": "execute_result",
          "data": {
            "text/plain": [
              "array([0.5, 1. , 1.5, 2. ])"
            ]
          },
          "metadata": {},
          "execution_count": 108
        }
      ]
    },
    {
      "cell_type": "code",
      "source": [
        "b = np.array([1,0,1,0])\n",
        "a+b"
      ],
      "metadata": {
        "colab": {
          "base_uri": "https://localhost:8080/"
        },
        "id": "S79DhkziltTB",
        "outputId": "a41bf439-5b8c-4e18-ed73-708f075cbd1c"
      },
      "execution_count": null,
      "outputs": [
        {
          "output_type": "execute_result",
          "data": {
            "text/plain": [
              "array([2, 2, 4, 4])"
            ]
          },
          "metadata": {},
          "execution_count": 109
        }
      ]
    },
    {
      "cell_type": "code",
      "source": [
        "a **2"
      ],
      "metadata": {
        "colab": {
          "base_uri": "https://localhost:8080/"
        },
        "id": "CBM7eeDzl8qm",
        "outputId": "e595a194-b240-47ab-d1de-dac590a89f20"
      },
      "execution_count": null,
      "outputs": [
        {
          "output_type": "execute_result",
          "data": {
            "text/plain": [
              "array([ 1,  4,  9, 16])"
            ]
          },
          "metadata": {},
          "execution_count": 110
        }
      ]
    },
    {
      "cell_type": "code",
      "source": [
        "#Take the sin,con or tan\n",
        "np.sin(a)\n",
        "np.cos(a)\n",
        "np.tan(a)"
      ],
      "metadata": {
        "colab": {
          "base_uri": "https://localhost:8080/"
        },
        "id": "PnpPT_LwmEjO",
        "outputId": "e4c246d7-c1c0-48db-8ab1-4ab723f0b80c"
      },
      "execution_count": null,
      "outputs": [
        {
          "output_type": "execute_result",
          "data": {
            "text/plain": [
              "array([ 1.55740772, -2.18503986, -0.14254654,  1.15782128])"
            ]
          },
          "metadata": {},
          "execution_count": 113
        }
      ]
    },
    {
      "cell_type": "markdown",
      "source": [
        "####Linear Algebra"
      ],
      "metadata": {
        "id": "O1eBY_nlmdI0"
      }
    },
    {
      "cell_type": "code",
      "source": [
        "a = np.ones((2,3))\n",
        "print(a)\n",
        "\n",
        "b = np.full((3,2),2)\n",
        "print(b)\n",
        "\n",
        "np.matmul(a,b)"
      ],
      "metadata": {
        "colab": {
          "base_uri": "https://localhost:8080/"
        },
        "id": "JaP5wq-nmIZD",
        "outputId": "5980dc7d-6931-4fbb-aacd-25776aac6d80"
      },
      "execution_count": null,
      "outputs": [
        {
          "output_type": "stream",
          "name": "stdout",
          "text": [
            "[[1. 1. 1.]\n",
            " [1. 1. 1.]]\n",
            "[[2 2]\n",
            " [2 2]\n",
            " [2 2]]\n"
          ]
        },
        {
          "output_type": "execute_result",
          "data": {
            "text/plain": [
              "array([[6., 6.],\n",
              "       [6., 6.]])"
            ]
          },
          "metadata": {},
          "execution_count": 116
        }
      ]
    },
    {
      "cell_type": "code",
      "source": [
        "# Find the determinant\n",
        "c = np.identity(3)\n",
        "np.linalg.det(c)"
      ],
      "metadata": {
        "colab": {
          "base_uri": "https://localhost:8080/"
        },
        "id": "ARiRfclwmaFt",
        "outputId": "d2218e4a-0b7c-453d-dc43-af3820719044"
      },
      "execution_count": null,
      "outputs": [
        {
          "output_type": "execute_result",
          "data": {
            "text/plain": [
              "1.0"
            ]
          },
          "metadata": {},
          "execution_count": 118
        }
      ]
    },
    {
      "cell_type": "markdown",
      "source": [
        "Statistics\n"
      ],
      "metadata": {
        "id": "DYZbvsXrnx3L"
      }
    },
    {
      "cell_type": "code",
      "source": [
        "stats = np.array([[1,2,3],[4,5,6]])\n",
        "stats"
      ],
      "metadata": {
        "colab": {
          "base_uri": "https://localhost:8080/"
        },
        "id": "YbyxccjsmaPv",
        "outputId": "b9a42012-84a5-44a7-a134-e067567f563e"
      },
      "execution_count": null,
      "outputs": [
        {
          "output_type": "execute_result",
          "data": {
            "text/plain": [
              "array([[1, 2, 3],\n",
              "       [4, 5, 6]])"
            ]
          },
          "metadata": {},
          "execution_count": 119
        }
      ]
    },
    {
      "cell_type": "code",
      "source": [
        "np.min(stats, axis=0)"
      ],
      "metadata": {
        "colab": {
          "base_uri": "https://localhost:8080/"
        },
        "id": "Y0LeWy7Dn9wi",
        "outputId": "e0dd2507-129f-4317-fd5e-0b1406cab452"
      },
      "execution_count": null,
      "outputs": [
        {
          "output_type": "execute_result",
          "data": {
            "text/plain": [
              "array([1, 2, 3])"
            ]
          },
          "metadata": {},
          "execution_count": 121
        }
      ]
    },
    {
      "cell_type": "code",
      "source": [
        "np.max(stats, axis=1)"
      ],
      "metadata": {
        "colab": {
          "base_uri": "https://localhost:8080/"
        },
        "id": "Hy8KPGnNoA-X",
        "outputId": "5f839343-0af3-46ae-e053-afff8c80a5ce"
      },
      "execution_count": null,
      "outputs": [
        {
          "output_type": "execute_result",
          "data": {
            "text/plain": [
              "array([3, 6])"
            ]
          },
          "metadata": {},
          "execution_count": 123
        }
      ]
    },
    {
      "cell_type": "code",
      "source": [
        "np.sum(stats,axis=0)"
      ],
      "metadata": {
        "colab": {
          "base_uri": "https://localhost:8080/"
        },
        "id": "dYEucDsDoICp",
        "outputId": "ba4d4505-7357-4932-a0c3-4b51b7c74e66"
      },
      "execution_count": null,
      "outputs": [
        {
          "output_type": "execute_result",
          "data": {
            "text/plain": [
              "array([5, 7, 9])"
            ]
          },
          "metadata": {},
          "execution_count": 124
        }
      ]
    },
    {
      "cell_type": "markdown",
      "source": [
        "**Reorganizing** **Arrays**"
      ],
      "metadata": {
        "id": "q6Qbx8jxoUp0"
      }
    },
    {
      "cell_type": "code",
      "source": [
        "before = np.array([[1,2,3,4],[5,6,7,8]])\n",
        "print(before)\n",
        "\n",
        "after = before.reshape((2,2,2))\n",
        "print(after)"
      ],
      "metadata": {
        "colab": {
          "base_uri": "https://localhost:8080/"
        },
        "id": "FNk-CtJAoaFb",
        "outputId": "93f311d2-33bd-4312-fc38-568717b871ea"
      },
      "execution_count": null,
      "outputs": [
        {
          "output_type": "stream",
          "name": "stdout",
          "text": [
            "[[1 2 3 4]\n",
            " [5 6 7 8]]\n",
            "[[[1 2]\n",
            "  [3 4]]\n",
            "\n",
            " [[5 6]\n",
            "  [7 8]]]\n"
          ]
        }
      ]
    },
    {
      "cell_type": "code",
      "source": [
        "#Vertically stacking vectors\n",
        "v1 = np.array([1,2,3,4])\n",
        "v2 = np.array([5,6,7,8])\n",
        "np.vstack([v1,v2,v1,v2])"
      ],
      "metadata": {
        "colab": {
          "base_uri": "https://localhost:8080/"
        },
        "id": "gQP2eJXWozwr",
        "outputId": "ef5ce97a-e9bd-4ca3-8a44-f29c2bbbc458"
      },
      "execution_count": null,
      "outputs": [
        {
          "output_type": "execute_result",
          "data": {
            "text/plain": [
              "array([[1, 2, 3, 4],\n",
              "       [5, 6, 7, 8],\n",
              "       [1, 2, 3, 4],\n",
              "       [5, 6, 7, 8]])"
            ]
          },
          "metadata": {},
          "execution_count": 130
        }
      ]
    },
    {
      "cell_type": "code",
      "source": [
        "#Horizontal stack\n",
        "h1 = np.ones((2,4))\n",
        "h2 = np.zeros((2,2))\n",
        "\n",
        "np.hstack((h1,h2))"
      ],
      "metadata": {
        "colab": {
          "base_uri": "https://localhost:8080/"
        },
        "id": "kQBI09gHpTQ7",
        "outputId": "3ca262b2-8035-4f63-bd14-8474fa6ace2a"
      },
      "execution_count": null,
      "outputs": [
        {
          "output_type": "execute_result",
          "data": {
            "text/plain": [
              "array([[1., 1., 1., 1., 0., 0.],\n",
              "       [1., 1., 1., 1., 0., 0.]])"
            ]
          },
          "metadata": {},
          "execution_count": 131
        }
      ]
    },
    {
      "cell_type": "markdown",
      "source": [
        "**Miscellaneous**\n",
        "\n",
        "***Load Data From File***"
      ],
      "metadata": {
        "id": "b1KuhbZftQNx"
      }
    },
    {
      "cell_type": "code",
      "source": [
        "filedata = np.genfromtxt('data.txt', delimiter=',')\n",
        "filedata = filedata.astype('int32')\n",
        "filedata"
      ],
      "metadata": {
        "id": "S_JFXbHAtPma"
      },
      "execution_count": null,
      "outputs": []
    },
    {
      "cell_type": "markdown",
      "source": [
        "#### Boolean Masking and advanced Masking"
      ],
      "metadata": {
        "id": "HyP6BP3ZxnJg"
      }
    },
    {
      "cell_type": "code",
      "source": [
        "filedata [filedata > 50]"
      ],
      "metadata": {
        "colab": {
          "base_uri": "https://localhost:8080/"
        },
        "id": "55gyH0BBxMEt",
        "outputId": "591735f8-df77-4826-ca09-2c0c2de3f269"
      },
      "execution_count": null,
      "outputs": [
        {
          "output_type": "execute_result",
          "data": {
            "text/plain": [
              "array([196,  75, 766,  75,  55, 999,  78,  76,  88], dtype=int32)"
            ]
          },
          "metadata": {},
          "execution_count": 140
        }
      ]
    },
    {
      "cell_type": "code",
      "source": [
        "np.all(filedata > 50, axis=0)"
      ],
      "metadata": {
        "colab": {
          "base_uri": "https://localhost:8080/"
        },
        "id": "I15-79-0xmhs",
        "outputId": "4cfd4641-f05f-4363-ba7f-905a8abf6ab3"
      },
      "execution_count": null,
      "outputs": [
        {
          "output_type": "execute_result",
          "data": {
            "text/plain": [
              "array([False, False, False, False,  True, False, False, False, False,\n",
              "       False, False, False, False, False, False, False, False, False])"
            ]
          },
          "metadata": {},
          "execution_count": 143
        }
      ]
    },
    {
      "cell_type": "code",
      "source": [
        "(((filedata > 50) & (filedata < 100)))"
      ],
      "metadata": {
        "colab": {
          "base_uri": "https://localhost:8080/"
        },
        "id": "2hwSz2nfyP7w",
        "outputId": "9119502c-1f02-492d-85db-97c774031541"
      },
      "execution_count": null,
      "outputs": [
        {
          "output_type": "execute_result",
          "data": {
            "text/plain": [
              "array([[False, False, False, False, False,  True, False, False, False,\n",
              "        False, False, False, False, False, False, False, False, False],\n",
              "       [False, False, False, False, False,  True, False,  True, False,\n",
              "        False, False, False, False, False, False, False, False, False],\n",
              "       [False, False, False, False, False, False, False, False,  True,\n",
              "        False, False, False, False, False, False, False,  True,  True]])"
            ]
          },
          "metadata": {},
          "execution_count": 147
        }
      ]
    },
    {
      "cell_type": "markdown",
      "source": [
        "Indexing Exercise"
      ],
      "metadata": {
        "id": "ND9LT57n2wHH"
      }
    },
    {
      "cell_type": "markdown",
      "source": [
        "![Screenshot Indexing.png](data:image/png;base64,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)"
      ],
      "metadata": {
        "id": "5u0N0_7G2wah"
      }
    }
  ]
}